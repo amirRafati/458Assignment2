{
 "cells": [
  {
   "cell_type": "code",
   "execution_count": 2,
   "metadata": {},
   "outputs": [],
   "source": [
    "import pandas as pd"
   ]
  },
  {
   "cell_type": "code",
   "execution_count": 3,
   "metadata": {},
   "outputs": [
    {
     "name": "stdout",
     "output_type": "stream",
     "text": [
      "<class 'pandas.core.frame.DataFrame'>\n",
      "RangeIndex: 90766 entries, 0 to 90765\n",
      "Data columns (total 50 columns):\n",
      " #   Column                    Non-Null Count  Dtype \n",
      "---  ------                    --------------  ----- \n",
      " 0   encounter_id2             90766 non-null  int64 \n",
      " 1   patient_nbr2              90766 non-null  int64 \n",
      " 2   race                      90766 non-null  object\n",
      " 3   gender                    90766 non-null  object\n",
      " 4   age                       90766 non-null  object\n",
      " 5   weight                    90766 non-null  object\n",
      " 6   admission_type_id         90766 non-null  int64 \n",
      " 7   discharge_disposition_id  90766 non-null  int64 \n",
      " 8   admission_source_id       90766 non-null  int64 \n",
      " 9   time_in_hospital          90766 non-null  int64 \n",
      " 10  payer_code                90766 non-null  object\n",
      " 11  medical_specialty         90766 non-null  object\n",
      " 12  num_lab_procedures        90766 non-null  int64 \n",
      " 13  num_procedures            90766 non-null  int64 \n",
      " 14  num_medications           90766 non-null  int64 \n",
      " 15  number_outpatient         90766 non-null  int64 \n",
      " 16  number_emergency          90766 non-null  int64 \n",
      " 17  number_inpatient          90766 non-null  int64 \n",
      " 18  diag_1                    90766 non-null  object\n",
      " 19  diag_2                    90766 non-null  object\n",
      " 20  diag_3                    90766 non-null  object\n",
      " 21  number_diagnoses          90766 non-null  int64 \n",
      " 22  max_glu_serum             5185 non-null   object\n",
      " 23  A1Cresult                 14839 non-null  object\n",
      " 24  metformin                 90766 non-null  object\n",
      " 25  repaglinide               90766 non-null  object\n",
      " 26  nateglinide               90766 non-null  object\n",
      " 27  chlorpropamide            90766 non-null  object\n",
      " 28  glimepiride               90766 non-null  object\n",
      " 29  acetohexamide             90766 non-null  object\n",
      " 30  glipizide                 90766 non-null  object\n",
      " 31  glyburide                 90766 non-null  object\n",
      " 32  tolbutamide               90766 non-null  object\n",
      " 33  pioglitazone              90766 non-null  object\n",
      " 34  rosiglitazone             90766 non-null  object\n",
      " 35  acarbose                  90766 non-null  object\n",
      " 36  miglitol                  90766 non-null  object\n",
      " 37  troglitazone              90766 non-null  object\n",
      " 38  tolazamide                90766 non-null  object\n",
      " 39  examide                   90766 non-null  object\n",
      " 40  citoglipton               90766 non-null  object\n",
      " 41  insulin                   90766 non-null  object\n",
      " 42  glyburide-metformin       90766 non-null  object\n",
      " 43  glipizide-metformin       90766 non-null  object\n",
      " 44  glimepiride-pioglitazone  90766 non-null  object\n",
      " 45  metformin-rosiglitazone   90766 non-null  object\n",
      " 46  metformin-pioglitazone    90766 non-null  object\n",
      " 47  change                    90766 non-null  object\n",
      " 48  diabetesMed               90766 non-null  object\n",
      " 49  readmitted                90766 non-null  object\n",
      "dtypes: int64(13), object(37)\n",
      "memory usage: 34.6+ MB\n"
     ]
    }
   ],
   "source": [
    "filePath = 'C2T1_Train.csv'\n",
    " \n",
    "rawDF=pd.read_csv(filePath)\n",
    "\n",
    "rawDF.info()"
   ]
  },
  {
   "cell_type": "markdown",
   "metadata": {},
   "source": [
    "Weight Column has almost all '?' values renderring it useless for the model to train on."
   ]
  },
  {
   "cell_type": "code",
   "execution_count": 5,
   "metadata": {},
   "outputs": [],
   "source": [
    "rawDF.drop('weight', axis=1, inplace=True)"
   ]
  },
  {
   "cell_type": "code",
   "execution_count": null,
   "metadata": {},
   "outputs": [],
   "source": []
  }
 ],
 "metadata": {
  "kernelspec": {
   "display_name": "Python 3.11.0 64-bit",
   "language": "python",
   "name": "python3"
  },
  "language_info": {
   "codemirror_mode": {
    "name": "ipython",
    "version": 3
   },
   "file_extension": ".py",
   "mimetype": "text/x-python",
   "name": "python",
   "nbconvert_exporter": "python",
   "pygments_lexer": "ipython3",
   "version": "3.11.0"
  },
  "orig_nbformat": 4,
  "vscode": {
   "interpreter": {
    "hash": "aee8b7b246df8f9039afb4144a1f6fd8d2ca17a180786b69acc140d282b71a49"
   }
  }
 },
 "nbformat": 4,
 "nbformat_minor": 2
}
